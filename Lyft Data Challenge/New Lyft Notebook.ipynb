{
 "cells": [
  {
   "cell_type": "code",
   "execution_count": 1,
   "metadata": {},
   "outputs": [],
   "source": [
    "import numpy as np\n",
    "import pandas as pd\n",
    "import matplotlib.pyplot as plt\n",
    "import seaborn as sns"
   ]
  },
  {
   "cell_type": "code",
   "execution_count": 2,
   "metadata": {},
   "outputs": [],
   "source": [
    "driver_ids = pd.read_csv(\"driver_ids.csv\")"
   ]
  },
  {
   "cell_type": "code",
   "execution_count": 3,
   "metadata": {},
   "outputs": [],
   "source": [
    "ride_ids = pd.read_csv(\"ride_ids.csv\")"
   ]
  },
  {
   "cell_type": "code",
   "execution_count": 4,
   "metadata": {},
   "outputs": [],
   "source": [
    "ride_timestamps = pd.read_csv(\"ride_timestamps.csv\")"
   ]
  },
  {
   "cell_type": "code",
   "execution_count": 5,
   "metadata": {},
   "outputs": [
    {
     "data": {
      "text/html": [
       "<div>\n",
       "<style scoped>\n",
       "    .dataframe tbody tr th:only-of-type {\n",
       "        vertical-align: middle;\n",
       "    }\n",
       "\n",
       "    .dataframe tbody tr th {\n",
       "        vertical-align: top;\n",
       "    }\n",
       "\n",
       "    .dataframe thead th {\n",
       "        text-align: right;\n",
       "    }\n",
       "</style>\n",
       "<table border=\"1\" class=\"dataframe\">\n",
       "  <thead>\n",
       "    <tr style=\"text-align: right;\">\n",
       "      <th></th>\n",
       "      <th>driver_id</th>\n",
       "      <th>driver_onboard_date</th>\n",
       "    </tr>\n",
       "  </thead>\n",
       "  <tbody>\n",
       "    <tr>\n",
       "      <th>0</th>\n",
       "      <td>002be0ffdc997bd5c50703158b7c2491</td>\n",
       "      <td>2016-03-29 00:00:00</td>\n",
       "    </tr>\n",
       "    <tr>\n",
       "      <th>1</th>\n",
       "      <td>007f0389f9c7b03ef97098422f902e62</td>\n",
       "      <td>2016-03-29 00:00:00</td>\n",
       "    </tr>\n",
       "    <tr>\n",
       "      <th>2</th>\n",
       "      <td>011e5c5dfc5c2c92501b8b24d47509bc</td>\n",
       "      <td>2016-04-05 00:00:00</td>\n",
       "    </tr>\n",
       "    <tr>\n",
       "      <th>3</th>\n",
       "      <td>0152a2f305e71d26cc964f8d4411add9</td>\n",
       "      <td>2016-04-23 00:00:00</td>\n",
       "    </tr>\n",
       "    <tr>\n",
       "      <th>4</th>\n",
       "      <td>01674381af7edd264113d4e6ed55ecda</td>\n",
       "      <td>2016-04-29 00:00:00</td>\n",
       "    </tr>\n",
       "  </tbody>\n",
       "</table>\n",
       "</div>"
      ],
      "text/plain": [
       "                          driver_id  driver_onboard_date\n",
       "0  002be0ffdc997bd5c50703158b7c2491  2016-03-29 00:00:00\n",
       "1  007f0389f9c7b03ef97098422f902e62  2016-03-29 00:00:00\n",
       "2  011e5c5dfc5c2c92501b8b24d47509bc  2016-04-05 00:00:00\n",
       "3  0152a2f305e71d26cc964f8d4411add9  2016-04-23 00:00:00\n",
       "4  01674381af7edd264113d4e6ed55ecda  2016-04-29 00:00:00"
      ]
     },
     "execution_count": 5,
     "metadata": {},
     "output_type": "execute_result"
    }
   ],
   "source": [
    "driver_ids.head(5)"
   ]
  },
  {
   "cell_type": "code",
   "execution_count": 6,
   "metadata": {},
   "outputs": [
    {
     "data": {
      "text/html": [
       "<div>\n",
       "<style scoped>\n",
       "    .dataframe tbody tr th:only-of-type {\n",
       "        vertical-align: middle;\n",
       "    }\n",
       "\n",
       "    .dataframe tbody tr th {\n",
       "        vertical-align: top;\n",
       "    }\n",
       "\n",
       "    .dataframe thead th {\n",
       "        text-align: right;\n",
       "    }\n",
       "</style>\n",
       "<table border=\"1\" class=\"dataframe\">\n",
       "  <thead>\n",
       "    <tr style=\"text-align: right;\">\n",
       "      <th></th>\n",
       "      <th>driver_id</th>\n",
       "      <th>ride_id</th>\n",
       "      <th>ride_distance</th>\n",
       "      <th>ride_duration</th>\n",
       "      <th>ride_prime_time</th>\n",
       "    </tr>\n",
       "  </thead>\n",
       "  <tbody>\n",
       "    <tr>\n",
       "      <th>0</th>\n",
       "      <td>002be0ffdc997bd5c50703158b7c2491</td>\n",
       "      <td>006d61cf7446e682f7bc50b0f8a5bea5</td>\n",
       "      <td>1811</td>\n",
       "      <td>327</td>\n",
       "      <td>50</td>\n",
       "    </tr>\n",
       "    <tr>\n",
       "      <th>1</th>\n",
       "      <td>002be0ffdc997bd5c50703158b7c2491</td>\n",
       "      <td>01b522c5c3a756fbdb12e95e87507eda</td>\n",
       "      <td>3362</td>\n",
       "      <td>809</td>\n",
       "      <td>0</td>\n",
       "    </tr>\n",
       "    <tr>\n",
       "      <th>2</th>\n",
       "      <td>002be0ffdc997bd5c50703158b7c2491</td>\n",
       "      <td>029227c4c2971ce69ff2274dc798ef43</td>\n",
       "      <td>3282</td>\n",
       "      <td>572</td>\n",
       "      <td>0</td>\n",
       "    </tr>\n",
       "    <tr>\n",
       "      <th>3</th>\n",
       "      <td>002be0ffdc997bd5c50703158b7c2491</td>\n",
       "      <td>034e861343a63ac3c18a9ceb1ce0ac69</td>\n",
       "      <td>65283</td>\n",
       "      <td>3338</td>\n",
       "      <td>25</td>\n",
       "    </tr>\n",
       "    <tr>\n",
       "      <th>4</th>\n",
       "      <td>002be0ffdc997bd5c50703158b7c2491</td>\n",
       "      <td>034f2e614a2f9fc7f1c2f77647d1b981</td>\n",
       "      <td>4115</td>\n",
       "      <td>823</td>\n",
       "      <td>100</td>\n",
       "    </tr>\n",
       "  </tbody>\n",
       "</table>\n",
       "</div>"
      ],
      "text/plain": [
       "                          driver_id                           ride_id  \\\n",
       "0  002be0ffdc997bd5c50703158b7c2491  006d61cf7446e682f7bc50b0f8a5bea5   \n",
       "1  002be0ffdc997bd5c50703158b7c2491  01b522c5c3a756fbdb12e95e87507eda   \n",
       "2  002be0ffdc997bd5c50703158b7c2491  029227c4c2971ce69ff2274dc798ef43   \n",
       "3  002be0ffdc997bd5c50703158b7c2491  034e861343a63ac3c18a9ceb1ce0ac69   \n",
       "4  002be0ffdc997bd5c50703158b7c2491  034f2e614a2f9fc7f1c2f77647d1b981   \n",
       "\n",
       "   ride_distance  ride_duration  ride_prime_time  \n",
       "0           1811            327               50  \n",
       "1           3362            809                0  \n",
       "2           3282            572                0  \n",
       "3          65283           3338               25  \n",
       "4           4115            823              100  "
      ]
     },
     "execution_count": 6,
     "metadata": {},
     "output_type": "execute_result"
    }
   ],
   "source": [
    "ride_ids.head(5)"
   ]
  },
  {
   "cell_type": "code",
   "execution_count": 7,
   "metadata": {},
   "outputs": [
    {
     "data": {
      "text/html": [
       "<div>\n",
       "<style scoped>\n",
       "    .dataframe tbody tr th:only-of-type {\n",
       "        vertical-align: middle;\n",
       "    }\n",
       "\n",
       "    .dataframe tbody tr th {\n",
       "        vertical-align: top;\n",
       "    }\n",
       "\n",
       "    .dataframe thead th {\n",
       "        text-align: right;\n",
       "    }\n",
       "</style>\n",
       "<table border=\"1\" class=\"dataframe\">\n",
       "  <thead>\n",
       "    <tr style=\"text-align: right;\">\n",
       "      <th></th>\n",
       "      <th>ride_id</th>\n",
       "      <th>event</th>\n",
       "      <th>timestamp</th>\n",
       "    </tr>\n",
       "  </thead>\n",
       "  <tbody>\n",
       "    <tr>\n",
       "      <th>0</th>\n",
       "      <td>00003037a262d9ee40e61b5c0718f7f0</td>\n",
       "      <td>requested_at</td>\n",
       "      <td>2016-06-13 09:39:19</td>\n",
       "    </tr>\n",
       "    <tr>\n",
       "      <th>1</th>\n",
       "      <td>00003037a262d9ee40e61b5c0718f7f0</td>\n",
       "      <td>accepted_at</td>\n",
       "      <td>2016-06-13 09:39:51</td>\n",
       "    </tr>\n",
       "    <tr>\n",
       "      <th>2</th>\n",
       "      <td>00003037a262d9ee40e61b5c0718f7f0</td>\n",
       "      <td>arrived_at</td>\n",
       "      <td>2016-06-13 09:44:31</td>\n",
       "    </tr>\n",
       "    <tr>\n",
       "      <th>3</th>\n",
       "      <td>00003037a262d9ee40e61b5c0718f7f0</td>\n",
       "      <td>picked_up_at</td>\n",
       "      <td>2016-06-13 09:44:33</td>\n",
       "    </tr>\n",
       "    <tr>\n",
       "      <th>4</th>\n",
       "      <td>00003037a262d9ee40e61b5c0718f7f0</td>\n",
       "      <td>dropped_off_at</td>\n",
       "      <td>2016-06-13 10:03:05</td>\n",
       "    </tr>\n",
       "  </tbody>\n",
       "</table>\n",
       "</div>"
      ],
      "text/plain": [
       "                            ride_id           event            timestamp\n",
       "0  00003037a262d9ee40e61b5c0718f7f0    requested_at  2016-06-13 09:39:19\n",
       "1  00003037a262d9ee40e61b5c0718f7f0     accepted_at  2016-06-13 09:39:51\n",
       "2  00003037a262d9ee40e61b5c0718f7f0      arrived_at  2016-06-13 09:44:31\n",
       "3  00003037a262d9ee40e61b5c0718f7f0    picked_up_at  2016-06-13 09:44:33\n",
       "4  00003037a262d9ee40e61b5c0718f7f0  dropped_off_at  2016-06-13 10:03:05"
      ]
     },
     "execution_count": 7,
     "metadata": {},
     "output_type": "execute_result"
    }
   ],
   "source": [
    "ride_timestamps.head()"
   ]
  },
  {
   "cell_type": "code",
   "execution_count": 8,
   "metadata": {},
   "outputs": [],
   "source": [
    "df = ride_ids "
   ]
  },
  {
   "cell_type": "code",
   "execution_count": 9,
   "metadata": {},
   "outputs": [],
   "source": [
    "#ride_ids[\"ride_fare\"] = (ride_ids[\"ride_distance\"])\n",
    "ride_fare = []\n",
    "short_ride = []\n",
    "long_ride = []\n",
    "for index, row in ride_ids.iterrows():\n",
    "    distance = row[\"ride_distance\"]/(1609.344)\n",
    "    duration = row[\"ride_duration\"]/(60)\n",
    "    fare = round((2 + 1.15*distance + 0.22*duration),2) \n",
    "    ride_fare.append(fare)\n",
    "    if row[\"ride_distance\"] <= 2456:\n",
    "        short_ride.append(1)\n",
    "        long_ride.append(0)\n",
    "    elif row[\"ride_distance\"] >= 7166:\n",
    "        short_ride.append(0)\n",
    "        long_ride.append(1)\n",
    "    else:\n",
    "        short_ride.append(0)\n",
    "        long_ride.append(0)"
   ]
  },
  {
   "cell_type": "code",
   "execution_count": 10,
   "metadata": {},
   "outputs": [],
   "source": [
    "df[\"ride_fare\"] = ride_fare"
   ]
  },
  {
   "cell_type": "code",
   "execution_count": 11,
   "metadata": {},
   "outputs": [],
   "source": [
    "df[\"short_ride\"] = short_ride"
   ]
  },
  {
   "cell_type": "code",
   "execution_count": 12,
   "metadata": {},
   "outputs": [],
   "source": [
    "df[\"long_ride\"] = long_ride"
   ]
  },
  {
   "cell_type": "code",
   "execution_count": 13,
   "metadata": {},
   "outputs": [
    {
     "data": {
      "text/html": [
       "<div>\n",
       "<style scoped>\n",
       "    .dataframe tbody tr th:only-of-type {\n",
       "        vertical-align: middle;\n",
       "    }\n",
       "\n",
       "    .dataframe tbody tr th {\n",
       "        vertical-align: top;\n",
       "    }\n",
       "\n",
       "    .dataframe thead th {\n",
       "        text-align: right;\n",
       "    }\n",
       "</style>\n",
       "<table border=\"1\" class=\"dataframe\">\n",
       "  <thead>\n",
       "    <tr style=\"text-align: right;\">\n",
       "      <th></th>\n",
       "      <th>driver_id</th>\n",
       "      <th>ride_id</th>\n",
       "      <th>ride_distance</th>\n",
       "      <th>ride_duration</th>\n",
       "      <th>ride_prime_time</th>\n",
       "      <th>ride_fare</th>\n",
       "      <th>short_ride</th>\n",
       "      <th>long_ride</th>\n",
       "    </tr>\n",
       "  </thead>\n",
       "  <tbody>\n",
       "    <tr>\n",
       "      <th>0</th>\n",
       "      <td>002be0ffdc997bd5c50703158b7c2491</td>\n",
       "      <td>006d61cf7446e682f7bc50b0f8a5bea5</td>\n",
       "      <td>1811</td>\n",
       "      <td>327</td>\n",
       "      <td>50</td>\n",
       "      <td>4.49</td>\n",
       "      <td>1</td>\n",
       "      <td>0</td>\n",
       "    </tr>\n",
       "    <tr>\n",
       "      <th>1</th>\n",
       "      <td>002be0ffdc997bd5c50703158b7c2491</td>\n",
       "      <td>01b522c5c3a756fbdb12e95e87507eda</td>\n",
       "      <td>3362</td>\n",
       "      <td>809</td>\n",
       "      <td>0</td>\n",
       "      <td>7.37</td>\n",
       "      <td>0</td>\n",
       "      <td>0</td>\n",
       "    </tr>\n",
       "    <tr>\n",
       "      <th>2</th>\n",
       "      <td>002be0ffdc997bd5c50703158b7c2491</td>\n",
       "      <td>029227c4c2971ce69ff2274dc798ef43</td>\n",
       "      <td>3282</td>\n",
       "      <td>572</td>\n",
       "      <td>0</td>\n",
       "      <td>6.44</td>\n",
       "      <td>0</td>\n",
       "      <td>0</td>\n",
       "    </tr>\n",
       "    <tr>\n",
       "      <th>3</th>\n",
       "      <td>002be0ffdc997bd5c50703158b7c2491</td>\n",
       "      <td>034e861343a63ac3c18a9ceb1ce0ac69</td>\n",
       "      <td>65283</td>\n",
       "      <td>3338</td>\n",
       "      <td>25</td>\n",
       "      <td>60.89</td>\n",
       "      <td>0</td>\n",
       "      <td>1</td>\n",
       "    </tr>\n",
       "    <tr>\n",
       "      <th>4</th>\n",
       "      <td>002be0ffdc997bd5c50703158b7c2491</td>\n",
       "      <td>034f2e614a2f9fc7f1c2f77647d1b981</td>\n",
       "      <td>4115</td>\n",
       "      <td>823</td>\n",
       "      <td>100</td>\n",
       "      <td>7.96</td>\n",
       "      <td>0</td>\n",
       "      <td>0</td>\n",
       "    </tr>\n",
       "    <tr>\n",
       "      <th>5</th>\n",
       "      <td>002be0ffdc997bd5c50703158b7c2491</td>\n",
       "      <td>03d6b9d80b8a96135cb9b25178e9e203</td>\n",
       "      <td>4832</td>\n",
       "      <td>917</td>\n",
       "      <td>100</td>\n",
       "      <td>8.82</td>\n",
       "      <td>0</td>\n",
       "      <td>0</td>\n",
       "    </tr>\n",
       "    <tr>\n",
       "      <th>6</th>\n",
       "      <td>002be0ffdc997bd5c50703158b7c2491</td>\n",
       "      <td>04053c0ed21761e07f0b869cab5b7dd0</td>\n",
       "      <td>1575</td>\n",
       "      <td>347</td>\n",
       "      <td>0</td>\n",
       "      <td>4.40</td>\n",
       "      <td>1</td>\n",
       "      <td>0</td>\n",
       "    </tr>\n",
       "    <tr>\n",
       "      <th>7</th>\n",
       "      <td>002be0ffdc997bd5c50703158b7c2491</td>\n",
       "      <td>0534d432e0186625f623aaee57af98be</td>\n",
       "      <td>3056</td>\n",
       "      <td>687</td>\n",
       "      <td>25</td>\n",
       "      <td>6.70</td>\n",
       "      <td>0</td>\n",
       "      <td>0</td>\n",
       "    </tr>\n",
       "    <tr>\n",
       "      <th>8</th>\n",
       "      <td>002be0ffdc997bd5c50703158b7c2491</td>\n",
       "      <td>053a1621c0affcd2b9c517af5c2bc843</td>\n",
       "      <td>3940</td>\n",
       "      <td>1143</td>\n",
       "      <td>75</td>\n",
       "      <td>9.01</td>\n",
       "      <td>0</td>\n",
       "      <td>0</td>\n",
       "    </tr>\n",
       "    <tr>\n",
       "      <th>9</th>\n",
       "      <td>002be0ffdc997bd5c50703158b7c2491</td>\n",
       "      <td>066e92c52f59486de56cd7b8716a4ca6</td>\n",
       "      <td>3957</td>\n",
       "      <td>868</td>\n",
       "      <td>50</td>\n",
       "      <td>8.01</td>\n",
       "      <td>0</td>\n",
       "      <td>0</td>\n",
       "    </tr>\n",
       "  </tbody>\n",
       "</table>\n",
       "</div>"
      ],
      "text/plain": [
       "                          driver_id                           ride_id  \\\n",
       "0  002be0ffdc997bd5c50703158b7c2491  006d61cf7446e682f7bc50b0f8a5bea5   \n",
       "1  002be0ffdc997bd5c50703158b7c2491  01b522c5c3a756fbdb12e95e87507eda   \n",
       "2  002be0ffdc997bd5c50703158b7c2491  029227c4c2971ce69ff2274dc798ef43   \n",
       "3  002be0ffdc997bd5c50703158b7c2491  034e861343a63ac3c18a9ceb1ce0ac69   \n",
       "4  002be0ffdc997bd5c50703158b7c2491  034f2e614a2f9fc7f1c2f77647d1b981   \n",
       "5  002be0ffdc997bd5c50703158b7c2491  03d6b9d80b8a96135cb9b25178e9e203   \n",
       "6  002be0ffdc997bd5c50703158b7c2491  04053c0ed21761e07f0b869cab5b7dd0   \n",
       "7  002be0ffdc997bd5c50703158b7c2491  0534d432e0186625f623aaee57af98be   \n",
       "8  002be0ffdc997bd5c50703158b7c2491  053a1621c0affcd2b9c517af5c2bc843   \n",
       "9  002be0ffdc997bd5c50703158b7c2491  066e92c52f59486de56cd7b8716a4ca6   \n",
       "\n",
       "   ride_distance  ride_duration  ride_prime_time  ride_fare  short_ride  \\\n",
       "0           1811            327               50       4.49           1   \n",
       "1           3362            809                0       7.37           0   \n",
       "2           3282            572                0       6.44           0   \n",
       "3          65283           3338               25      60.89           0   \n",
       "4           4115            823              100       7.96           0   \n",
       "5           4832            917              100       8.82           0   \n",
       "6           1575            347                0       4.40           1   \n",
       "7           3056            687               25       6.70           0   \n",
       "8           3940           1143               75       9.01           0   \n",
       "9           3957            868               50       8.01           0   \n",
       "\n",
       "   long_ride  \n",
       "0          0  \n",
       "1          0  \n",
       "2          0  \n",
       "3          1  \n",
       "4          0  \n",
       "5          0  \n",
       "6          0  \n",
       "7          0  \n",
       "8          0  \n",
       "9          0  "
      ]
     },
     "execution_count": 13,
     "metadata": {},
     "output_type": "execute_result"
    }
   ],
   "source": [
    "df.head(10)"
   ]
  },
  {
   "cell_type": "code",
   "execution_count": 46,
   "metadata": {},
   "outputs": [],
   "source": [
    "#def add_collumn(name):\n",
    "#    a = df.groupby(\"driver_id\")[name].sum()\n",
    "#    a_df = a.to_frame()\n",
    "#    a_df['driver_id'] = a_df.index\n",
    "#    new_df = pd.merge(driver_ids, a_df)\n",
    "#    return new_df "
   ]
  },
  {
   "cell_type": "code",
   "execution_count": 48,
   "metadata": {},
   "outputs": [],
   "source": [
    "#add_collumn(\"short_ride\")"
   ]
  },
  {
   "cell_type": "code",
   "execution_count": 22,
   "metadata": {},
   "outputs": [
    {
     "data": {
      "text/plain": [
       "driver_id            1\n",
       "ride_id            475\n",
       "ride_distance      470\n",
       "ride_duration      413\n",
       "ride_prime_time      6\n",
       "ride_fare          429\n",
       "dtype: int64"
      ]
     },
     "execution_count": 22,
     "metadata": {},
     "output_type": "execute_result"
    }
   ],
   "source": [
    "#df[(df.driver_id == '7c27405cefee2fad79a81a819ca9dbe1')].nunique()"
   ]
  },
  {
   "cell_type": "code",
   "execution_count": 14,
   "metadata": {},
   "outputs": [],
   "source": [
    "fare_per_driver = df.groupby(\"driver_id\")[\"ride_fare\"].sum()"
   ]
  },
  {
   "cell_type": "code",
   "execution_count": 15,
   "metadata": {},
   "outputs": [
    {
     "data": {
      "text/plain": [
       "driver_id\n",
       "002be0ffdc997bd5c50703158b7c2491    2608.77\n",
       "007f0389f9c7b03ef97098422f902e62     221.13\n",
       "011e5c5dfc5c2c92501b8b24d47509bc     367.79\n",
       "0152a2f305e71d26cc964f8d4411add9    2073.24\n",
       "01674381af7edd264113d4e6ed55ecda    4292.81\n",
       "0213f8b59219e32142711992ca4ec01f    2254.24\n",
       "021e5cd15ef0bb3ec20a12af99e142b3     475.11\n",
       "0258e250ca195cc6258cbdc75aecd853    3352.07\n",
       "028b5a4dcd7f4924ebfabcf2e814c014    4121.37\n",
       "02d6a6b8a6da15fc219a9570f7ebbe78    1620.89\n",
       "Name: ride_fare, dtype: float64"
      ]
     },
     "execution_count": 15,
     "metadata": {},
     "output_type": "execute_result"
    }
   ],
   "source": [
    "fare_per_driver.head(10)"
   ]
  },
  {
   "cell_type": "code",
   "execution_count": 16,
   "metadata": {},
   "outputs": [
    {
     "data": {
      "text/plain": [
       "pandas.core.series.Series"
      ]
     },
     "execution_count": 16,
     "metadata": {},
     "output_type": "execute_result"
    }
   ],
   "source": [
    "type(fare_per_driver)"
   ]
  },
  {
   "cell_type": "code",
   "execution_count": 17,
   "metadata": {},
   "outputs": [],
   "source": [
    "fare_df = fare_per_driver.to_frame()"
   ]
  },
  {
   "cell_type": "code",
   "execution_count": 18,
   "metadata": {},
   "outputs": [
    {
     "data": {
      "text/html": [
       "<div>\n",
       "<style scoped>\n",
       "    .dataframe tbody tr th:only-of-type {\n",
       "        vertical-align: middle;\n",
       "    }\n",
       "\n",
       "    .dataframe tbody tr th {\n",
       "        vertical-align: top;\n",
       "    }\n",
       "\n",
       "    .dataframe thead th {\n",
       "        text-align: right;\n",
       "    }\n",
       "</style>\n",
       "<table border=\"1\" class=\"dataframe\">\n",
       "  <thead>\n",
       "    <tr style=\"text-align: right;\">\n",
       "      <th></th>\n",
       "      <th>ride_fare</th>\n",
       "    </tr>\n",
       "    <tr>\n",
       "      <th>driver_id</th>\n",
       "      <th></th>\n",
       "    </tr>\n",
       "  </thead>\n",
       "  <tbody>\n",
       "    <tr>\n",
       "      <th>002be0ffdc997bd5c50703158b7c2491</th>\n",
       "      <td>2608.77</td>\n",
       "    </tr>\n",
       "    <tr>\n",
       "      <th>007f0389f9c7b03ef97098422f902e62</th>\n",
       "      <td>221.13</td>\n",
       "    </tr>\n",
       "    <tr>\n",
       "      <th>011e5c5dfc5c2c92501b8b24d47509bc</th>\n",
       "      <td>367.79</td>\n",
       "    </tr>\n",
       "    <tr>\n",
       "      <th>0152a2f305e71d26cc964f8d4411add9</th>\n",
       "      <td>2073.24</td>\n",
       "    </tr>\n",
       "    <tr>\n",
       "      <th>01674381af7edd264113d4e6ed55ecda</th>\n",
       "      <td>4292.81</td>\n",
       "    </tr>\n",
       "  </tbody>\n",
       "</table>\n",
       "</div>"
      ],
      "text/plain": [
       "                                  ride_fare\n",
       "driver_id                                  \n",
       "002be0ffdc997bd5c50703158b7c2491    2608.77\n",
       "007f0389f9c7b03ef97098422f902e62     221.13\n",
       "011e5c5dfc5c2c92501b8b24d47509bc     367.79\n",
       "0152a2f305e71d26cc964f8d4411add9    2073.24\n",
       "01674381af7edd264113d4e6ed55ecda    4292.81"
      ]
     },
     "execution_count": 18,
     "metadata": {},
     "output_type": "execute_result"
    }
   ],
   "source": [
    "fare_df.head()"
   ]
  },
  {
   "cell_type": "code",
   "execution_count": 19,
   "metadata": {},
   "outputs": [],
   "source": [
    "fare_df['driver_id'] = fare_df.index"
   ]
  },
  {
   "cell_type": "code",
   "execution_count": 20,
   "metadata": {},
   "outputs": [
    {
     "data": {
      "text/html": [
       "<div>\n",
       "<style scoped>\n",
       "    .dataframe tbody tr th:only-of-type {\n",
       "        vertical-align: middle;\n",
       "    }\n",
       "\n",
       "    .dataframe tbody tr th {\n",
       "        vertical-align: top;\n",
       "    }\n",
       "\n",
       "    .dataframe thead th {\n",
       "        text-align: right;\n",
       "    }\n",
       "</style>\n",
       "<table border=\"1\" class=\"dataframe\">\n",
       "  <thead>\n",
       "    <tr style=\"text-align: right;\">\n",
       "      <th></th>\n",
       "      <th>ride_fare</th>\n",
       "      <th>driver_id</th>\n",
       "    </tr>\n",
       "    <tr>\n",
       "      <th>driver_id</th>\n",
       "      <th></th>\n",
       "      <th></th>\n",
       "    </tr>\n",
       "  </thead>\n",
       "  <tbody>\n",
       "    <tr>\n",
       "      <th>002be0ffdc997bd5c50703158b7c2491</th>\n",
       "      <td>2608.77</td>\n",
       "      <td>002be0ffdc997bd5c50703158b7c2491</td>\n",
       "    </tr>\n",
       "    <tr>\n",
       "      <th>007f0389f9c7b03ef97098422f902e62</th>\n",
       "      <td>221.13</td>\n",
       "      <td>007f0389f9c7b03ef97098422f902e62</td>\n",
       "    </tr>\n",
       "    <tr>\n",
       "      <th>011e5c5dfc5c2c92501b8b24d47509bc</th>\n",
       "      <td>367.79</td>\n",
       "      <td>011e5c5dfc5c2c92501b8b24d47509bc</td>\n",
       "    </tr>\n",
       "    <tr>\n",
       "      <th>0152a2f305e71d26cc964f8d4411add9</th>\n",
       "      <td>2073.24</td>\n",
       "      <td>0152a2f305e71d26cc964f8d4411add9</td>\n",
       "    </tr>\n",
       "    <tr>\n",
       "      <th>01674381af7edd264113d4e6ed55ecda</th>\n",
       "      <td>4292.81</td>\n",
       "      <td>01674381af7edd264113d4e6ed55ecda</td>\n",
       "    </tr>\n",
       "  </tbody>\n",
       "</table>\n",
       "</div>"
      ],
      "text/plain": [
       "                                  ride_fare                         driver_id\n",
       "driver_id                                                                    \n",
       "002be0ffdc997bd5c50703158b7c2491    2608.77  002be0ffdc997bd5c50703158b7c2491\n",
       "007f0389f9c7b03ef97098422f902e62     221.13  007f0389f9c7b03ef97098422f902e62\n",
       "011e5c5dfc5c2c92501b8b24d47509bc     367.79  011e5c5dfc5c2c92501b8b24d47509bc\n",
       "0152a2f305e71d26cc964f8d4411add9    2073.24  0152a2f305e71d26cc964f8d4411add9\n",
       "01674381af7edd264113d4e6ed55ecda    4292.81  01674381af7edd264113d4e6ed55ecda"
      ]
     },
     "execution_count": 20,
     "metadata": {},
     "output_type": "execute_result"
    }
   ],
   "source": [
    "fare_df.head()"
   ]
  },
  {
   "cell_type": "code",
   "execution_count": 21,
   "metadata": {},
   "outputs": [
    {
     "name": "stdout",
     "output_type": "stream",
     "text": [
      "<class 'pandas.core.frame.DataFrame'>\n",
      "Index: 937 entries, 002be0ffdc997bd5c50703158b7c2491 to ffff51a71f2f185ec5e97d59dbcd7a78\n",
      "Data columns (total 2 columns):\n",
      "ride_fare    937 non-null float64\n",
      "driver_id    937 non-null object\n",
      "dtypes: float64(1), object(1)\n",
      "memory usage: 22.0+ KB\n"
     ]
    }
   ],
   "source": [
    "fare_df.info()"
   ]
  },
  {
   "cell_type": "code",
   "execution_count": 22,
   "metadata": {},
   "outputs": [
    {
     "name": "stderr",
     "output_type": "stream",
     "text": [
      "C:\\Users\\KHANH TM NGUYEN\\Anaconda3\\lib\\site-packages\\IPython\\core\\interactiveshell.py:2963: FutureWarning: 'driver_id' is both an index level and a column label.\n",
      "Defaulting to column, but this will raise an ambiguity error in a future version\n",
      "  exec(code_obj, self.user_global_ns, self.user_ns)\n"
     ]
    }
   ],
   "source": [
    "df2 = pd.merge(driver_ids, fare_df)"
   ]
  },
  {
   "cell_type": "code",
   "execution_count": 23,
   "metadata": {},
   "outputs": [
    {
     "data": {
      "text/html": [
       "<div>\n",
       "<style scoped>\n",
       "    .dataframe tbody tr th:only-of-type {\n",
       "        vertical-align: middle;\n",
       "    }\n",
       "\n",
       "    .dataframe tbody tr th {\n",
       "        vertical-align: top;\n",
       "    }\n",
       "\n",
       "    .dataframe thead th {\n",
       "        text-align: right;\n",
       "    }\n",
       "</style>\n",
       "<table border=\"1\" class=\"dataframe\">\n",
       "  <thead>\n",
       "    <tr style=\"text-align: right;\">\n",
       "      <th></th>\n",
       "      <th>driver_id</th>\n",
       "      <th>driver_onboard_date</th>\n",
       "      <th>ride_fare</th>\n",
       "    </tr>\n",
       "  </thead>\n",
       "  <tbody>\n",
       "    <tr>\n",
       "      <th>0</th>\n",
       "      <td>002be0ffdc997bd5c50703158b7c2491</td>\n",
       "      <td>2016-03-29 00:00:00</td>\n",
       "      <td>2608.77</td>\n",
       "    </tr>\n",
       "    <tr>\n",
       "      <th>1</th>\n",
       "      <td>007f0389f9c7b03ef97098422f902e62</td>\n",
       "      <td>2016-03-29 00:00:00</td>\n",
       "      <td>221.13</td>\n",
       "    </tr>\n",
       "    <tr>\n",
       "      <th>2</th>\n",
       "      <td>011e5c5dfc5c2c92501b8b24d47509bc</td>\n",
       "      <td>2016-04-05 00:00:00</td>\n",
       "      <td>367.79</td>\n",
       "    </tr>\n",
       "    <tr>\n",
       "      <th>3</th>\n",
       "      <td>0152a2f305e71d26cc964f8d4411add9</td>\n",
       "      <td>2016-04-23 00:00:00</td>\n",
       "      <td>2073.24</td>\n",
       "    </tr>\n",
       "    <tr>\n",
       "      <th>4</th>\n",
       "      <td>01674381af7edd264113d4e6ed55ecda</td>\n",
       "      <td>2016-04-29 00:00:00</td>\n",
       "      <td>4292.81</td>\n",
       "    </tr>\n",
       "  </tbody>\n",
       "</table>\n",
       "</div>"
      ],
      "text/plain": [
       "                          driver_id  driver_onboard_date  ride_fare\n",
       "0  002be0ffdc997bd5c50703158b7c2491  2016-03-29 00:00:00    2608.77\n",
       "1  007f0389f9c7b03ef97098422f902e62  2016-03-29 00:00:00     221.13\n",
       "2  011e5c5dfc5c2c92501b8b24d47509bc  2016-04-05 00:00:00     367.79\n",
       "3  0152a2f305e71d26cc964f8d4411add9  2016-04-23 00:00:00    2073.24\n",
       "4  01674381af7edd264113d4e6ed55ecda  2016-04-29 00:00:00    4292.81"
      ]
     },
     "execution_count": 23,
     "metadata": {},
     "output_type": "execute_result"
    }
   ],
   "source": [
    "df2.head()"
   ]
  },
  {
   "cell_type": "code",
   "execution_count": 24,
   "metadata": {},
   "outputs": [],
   "source": [
    "short_ride_df = df.groupby(\"driver_id\")[\"short_ride\"].sum().to_frame()"
   ]
  },
  {
   "cell_type": "code",
   "execution_count": 25,
   "metadata": {},
   "outputs": [
    {
     "data": {
      "text/html": [
       "<div>\n",
       "<style scoped>\n",
       "    .dataframe tbody tr th:only-of-type {\n",
       "        vertical-align: middle;\n",
       "    }\n",
       "\n",
       "    .dataframe tbody tr th {\n",
       "        vertical-align: top;\n",
       "    }\n",
       "\n",
       "    .dataframe thead th {\n",
       "        text-align: right;\n",
       "    }\n",
       "</style>\n",
       "<table border=\"1\" class=\"dataframe\">\n",
       "  <thead>\n",
       "    <tr style=\"text-align: right;\">\n",
       "      <th></th>\n",
       "      <th>short_ride</th>\n",
       "    </tr>\n",
       "    <tr>\n",
       "      <th>driver_id</th>\n",
       "      <th></th>\n",
       "    </tr>\n",
       "  </thead>\n",
       "  <tbody>\n",
       "    <tr>\n",
       "      <th>002be0ffdc997bd5c50703158b7c2491</th>\n",
       "      <td>72</td>\n",
       "    </tr>\n",
       "    <tr>\n",
       "      <th>007f0389f9c7b03ef97098422f902e62</th>\n",
       "      <td>10</td>\n",
       "    </tr>\n",
       "    <tr>\n",
       "      <th>011e5c5dfc5c2c92501b8b24d47509bc</th>\n",
       "      <td>11</td>\n",
       "    </tr>\n",
       "    <tr>\n",
       "      <th>0152a2f305e71d26cc964f8d4411add9</th>\n",
       "      <td>33</td>\n",
       "    </tr>\n",
       "    <tr>\n",
       "      <th>01674381af7edd264113d4e6ed55ecda</th>\n",
       "      <td>83</td>\n",
       "    </tr>\n",
       "  </tbody>\n",
       "</table>\n",
       "</div>"
      ],
      "text/plain": [
       "                                  short_ride\n",
       "driver_id                                   \n",
       "002be0ffdc997bd5c50703158b7c2491          72\n",
       "007f0389f9c7b03ef97098422f902e62          10\n",
       "011e5c5dfc5c2c92501b8b24d47509bc          11\n",
       "0152a2f305e71d26cc964f8d4411add9          33\n",
       "01674381af7edd264113d4e6ed55ecda          83"
      ]
     },
     "execution_count": 25,
     "metadata": {},
     "output_type": "execute_result"
    }
   ],
   "source": [
    "short_ride_df.head()"
   ]
  },
  {
   "cell_type": "code",
   "execution_count": 26,
   "metadata": {},
   "outputs": [],
   "source": [
    "short_ride_df['driver_id'] = short_ride_df.index"
   ]
  },
  {
   "cell_type": "code",
   "execution_count": 32,
   "metadata": {},
   "outputs": [
    {
     "name": "stderr",
     "output_type": "stream",
     "text": [
      "C:\\Users\\KHANH TM NGUYEN\\Anaconda3\\lib\\site-packages\\IPython\\core\\interactiveshell.py:2963: FutureWarning: 'driver_id' is both an index level and a column label.\n",
      "Defaulting to column, but this will raise an ambiguity error in a future version\n",
      "  exec(code_obj, self.user_global_ns, self.user_ns)\n"
     ]
    }
   ],
   "source": [
    "df3 = pd.merge(df2, short_ride_df)"
   ]
  },
  {
   "cell_type": "code",
   "execution_count": 33,
   "metadata": {},
   "outputs": [
    {
     "data": {
      "text/html": [
       "<div>\n",
       "<style scoped>\n",
       "    .dataframe tbody tr th:only-of-type {\n",
       "        vertical-align: middle;\n",
       "    }\n",
       "\n",
       "    .dataframe tbody tr th {\n",
       "        vertical-align: top;\n",
       "    }\n",
       "\n",
       "    .dataframe thead th {\n",
       "        text-align: right;\n",
       "    }\n",
       "</style>\n",
       "<table border=\"1\" class=\"dataframe\">\n",
       "  <thead>\n",
       "    <tr style=\"text-align: right;\">\n",
       "      <th></th>\n",
       "      <th>driver_id</th>\n",
       "      <th>driver_onboard_date</th>\n",
       "      <th>ride_fare</th>\n",
       "      <th>short_ride</th>\n",
       "    </tr>\n",
       "  </thead>\n",
       "  <tbody>\n",
       "    <tr>\n",
       "      <th>0</th>\n",
       "      <td>002be0ffdc997bd5c50703158b7c2491</td>\n",
       "      <td>2016-03-29 00:00:00</td>\n",
       "      <td>2608.77</td>\n",
       "      <td>72</td>\n",
       "    </tr>\n",
       "    <tr>\n",
       "      <th>1</th>\n",
       "      <td>007f0389f9c7b03ef97098422f902e62</td>\n",
       "      <td>2016-03-29 00:00:00</td>\n",
       "      <td>221.13</td>\n",
       "      <td>10</td>\n",
       "    </tr>\n",
       "    <tr>\n",
       "      <th>2</th>\n",
       "      <td>011e5c5dfc5c2c92501b8b24d47509bc</td>\n",
       "      <td>2016-04-05 00:00:00</td>\n",
       "      <td>367.79</td>\n",
       "      <td>11</td>\n",
       "    </tr>\n",
       "    <tr>\n",
       "      <th>3</th>\n",
       "      <td>0152a2f305e71d26cc964f8d4411add9</td>\n",
       "      <td>2016-04-23 00:00:00</td>\n",
       "      <td>2073.24</td>\n",
       "      <td>33</td>\n",
       "    </tr>\n",
       "    <tr>\n",
       "      <th>4</th>\n",
       "      <td>01674381af7edd264113d4e6ed55ecda</td>\n",
       "      <td>2016-04-29 00:00:00</td>\n",
       "      <td>4292.81</td>\n",
       "      <td>83</td>\n",
       "    </tr>\n",
       "  </tbody>\n",
       "</table>\n",
       "</div>"
      ],
      "text/plain": [
       "                          driver_id  driver_onboard_date  ride_fare  \\\n",
       "0  002be0ffdc997bd5c50703158b7c2491  2016-03-29 00:00:00    2608.77   \n",
       "1  007f0389f9c7b03ef97098422f902e62  2016-03-29 00:00:00     221.13   \n",
       "2  011e5c5dfc5c2c92501b8b24d47509bc  2016-04-05 00:00:00     367.79   \n",
       "3  0152a2f305e71d26cc964f8d4411add9  2016-04-23 00:00:00    2073.24   \n",
       "4  01674381af7edd264113d4e6ed55ecda  2016-04-29 00:00:00    4292.81   \n",
       "\n",
       "   short_ride  \n",
       "0          72  \n",
       "1          10  \n",
       "2          11  \n",
       "3          33  \n",
       "4          83  "
      ]
     },
     "execution_count": 33,
     "metadata": {},
     "output_type": "execute_result"
    }
   ],
   "source": [
    "df3.head()"
   ]
  },
  {
   "cell_type": "code",
   "execution_count": 34,
   "metadata": {},
   "outputs": [],
   "source": [
    "long_ride_df = df.groupby(\"driver_id\")[\"long_ride\"].sum().to_frame()"
   ]
  },
  {
   "cell_type": "code",
   "execution_count": 35,
   "metadata": {},
   "outputs": [],
   "source": [
    "long_ride_df['driver_id'] = long_ride_df.index"
   ]
  },
  {
   "cell_type": "code",
   "execution_count": 36,
   "metadata": {},
   "outputs": [
    {
     "data": {
      "text/html": [
       "<div>\n",
       "<style scoped>\n",
       "    .dataframe tbody tr th:only-of-type {\n",
       "        vertical-align: middle;\n",
       "    }\n",
       "\n",
       "    .dataframe tbody tr th {\n",
       "        vertical-align: top;\n",
       "    }\n",
       "\n",
       "    .dataframe thead th {\n",
       "        text-align: right;\n",
       "    }\n",
       "</style>\n",
       "<table border=\"1\" class=\"dataframe\">\n",
       "  <thead>\n",
       "    <tr style=\"text-align: right;\">\n",
       "      <th></th>\n",
       "      <th>long_ride</th>\n",
       "      <th>driver_id</th>\n",
       "    </tr>\n",
       "    <tr>\n",
       "      <th>driver_id</th>\n",
       "      <th></th>\n",
       "      <th></th>\n",
       "    </tr>\n",
       "  </thead>\n",
       "  <tbody>\n",
       "    <tr>\n",
       "      <th>002be0ffdc997bd5c50703158b7c2491</th>\n",
       "      <td>52</td>\n",
       "      <td>002be0ffdc997bd5c50703158b7c2491</td>\n",
       "    </tr>\n",
       "    <tr>\n",
       "      <th>007f0389f9c7b03ef97098422f902e62</th>\n",
       "      <td>2</td>\n",
       "      <td>007f0389f9c7b03ef97098422f902e62</td>\n",
       "    </tr>\n",
       "    <tr>\n",
       "      <th>011e5c5dfc5c2c92501b8b24d47509bc</th>\n",
       "      <td>7</td>\n",
       "      <td>011e5c5dfc5c2c92501b8b24d47509bc</td>\n",
       "    </tr>\n",
       "    <tr>\n",
       "      <th>0152a2f305e71d26cc964f8d4411add9</th>\n",
       "      <td>69</td>\n",
       "      <td>0152a2f305e71d26cc964f8d4411add9</td>\n",
       "    </tr>\n",
       "    <tr>\n",
       "      <th>01674381af7edd264113d4e6ed55ecda</th>\n",
       "      <td>125</td>\n",
       "      <td>01674381af7edd264113d4e6ed55ecda</td>\n",
       "    </tr>\n",
       "  </tbody>\n",
       "</table>\n",
       "</div>"
      ],
      "text/plain": [
       "                                  long_ride                         driver_id\n",
       "driver_id                                                                    \n",
       "002be0ffdc997bd5c50703158b7c2491         52  002be0ffdc997bd5c50703158b7c2491\n",
       "007f0389f9c7b03ef97098422f902e62          2  007f0389f9c7b03ef97098422f902e62\n",
       "011e5c5dfc5c2c92501b8b24d47509bc          7  011e5c5dfc5c2c92501b8b24d47509bc\n",
       "0152a2f305e71d26cc964f8d4411add9         69  0152a2f305e71d26cc964f8d4411add9\n",
       "01674381af7edd264113d4e6ed55ecda        125  01674381af7edd264113d4e6ed55ecda"
      ]
     },
     "execution_count": 36,
     "metadata": {},
     "output_type": "execute_result"
    }
   ],
   "source": [
    "long_ride_df.head()"
   ]
  },
  {
   "cell_type": "code",
   "execution_count": 37,
   "metadata": {},
   "outputs": [
    {
     "name": "stderr",
     "output_type": "stream",
     "text": [
      "C:\\Users\\KHANH TM NGUYEN\\Anaconda3\\lib\\site-packages\\IPython\\core\\interactiveshell.py:2963: FutureWarning: 'driver_id' is both an index level and a column label.\n",
      "Defaulting to column, but this will raise an ambiguity error in a future version\n",
      "  exec(code_obj, self.user_global_ns, self.user_ns)\n"
     ]
    }
   ],
   "source": [
    "df4 = pd.merge(df3, long_ride_df)"
   ]
  },
  {
   "cell_type": "code",
   "execution_count": 38,
   "metadata": {},
   "outputs": [
    {
     "data": {
      "text/html": [
       "<div>\n",
       "<style scoped>\n",
       "    .dataframe tbody tr th:only-of-type {\n",
       "        vertical-align: middle;\n",
       "    }\n",
       "\n",
       "    .dataframe tbody tr th {\n",
       "        vertical-align: top;\n",
       "    }\n",
       "\n",
       "    .dataframe thead th {\n",
       "        text-align: right;\n",
       "    }\n",
       "</style>\n",
       "<table border=\"1\" class=\"dataframe\">\n",
       "  <thead>\n",
       "    <tr style=\"text-align: right;\">\n",
       "      <th></th>\n",
       "      <th>driver_id</th>\n",
       "      <th>driver_onboard_date</th>\n",
       "      <th>ride_fare</th>\n",
       "      <th>short_ride</th>\n",
       "      <th>long_ride</th>\n",
       "    </tr>\n",
       "  </thead>\n",
       "  <tbody>\n",
       "    <tr>\n",
       "      <th>0</th>\n",
       "      <td>002be0ffdc997bd5c50703158b7c2491</td>\n",
       "      <td>2016-03-29 00:00:00</td>\n",
       "      <td>2608.77</td>\n",
       "      <td>72</td>\n",
       "      <td>52</td>\n",
       "    </tr>\n",
       "    <tr>\n",
       "      <th>1</th>\n",
       "      <td>007f0389f9c7b03ef97098422f902e62</td>\n",
       "      <td>2016-03-29 00:00:00</td>\n",
       "      <td>221.13</td>\n",
       "      <td>10</td>\n",
       "      <td>2</td>\n",
       "    </tr>\n",
       "    <tr>\n",
       "      <th>2</th>\n",
       "      <td>011e5c5dfc5c2c92501b8b24d47509bc</td>\n",
       "      <td>2016-04-05 00:00:00</td>\n",
       "      <td>367.79</td>\n",
       "      <td>11</td>\n",
       "      <td>7</td>\n",
       "    </tr>\n",
       "    <tr>\n",
       "      <th>3</th>\n",
       "      <td>0152a2f305e71d26cc964f8d4411add9</td>\n",
       "      <td>2016-04-23 00:00:00</td>\n",
       "      <td>2073.24</td>\n",
       "      <td>33</td>\n",
       "      <td>69</td>\n",
       "    </tr>\n",
       "    <tr>\n",
       "      <th>4</th>\n",
       "      <td>01674381af7edd264113d4e6ed55ecda</td>\n",
       "      <td>2016-04-29 00:00:00</td>\n",
       "      <td>4292.81</td>\n",
       "      <td>83</td>\n",
       "      <td>125</td>\n",
       "    </tr>\n",
       "  </tbody>\n",
       "</table>\n",
       "</div>"
      ],
      "text/plain": [
       "                          driver_id  driver_onboard_date  ride_fare  \\\n",
       "0  002be0ffdc997bd5c50703158b7c2491  2016-03-29 00:00:00    2608.77   \n",
       "1  007f0389f9c7b03ef97098422f902e62  2016-03-29 00:00:00     221.13   \n",
       "2  011e5c5dfc5c2c92501b8b24d47509bc  2016-04-05 00:00:00     367.79   \n",
       "3  0152a2f305e71d26cc964f8d4411add9  2016-04-23 00:00:00    2073.24   \n",
       "4  01674381af7edd264113d4e6ed55ecda  2016-04-29 00:00:00    4292.81   \n",
       "\n",
       "   short_ride  long_ride  \n",
       "0          72         52  \n",
       "1          10          2  \n",
       "2          11          7  \n",
       "3          33         69  \n",
       "4          83        125  "
      ]
     },
     "execution_count": 38,
     "metadata": {},
     "output_type": "execute_result"
    }
   ],
   "source": [
    "df4.head()"
   ]
  },
  {
   "cell_type": "code",
   "execution_count": 39,
   "metadata": {},
   "outputs": [
    {
     "data": {
      "text/html": [
       "<div>\n",
       "<style scoped>\n",
       "    .dataframe tbody tr th:only-of-type {\n",
       "        vertical-align: middle;\n",
       "    }\n",
       "\n",
       "    .dataframe tbody tr th {\n",
       "        vertical-align: top;\n",
       "    }\n",
       "\n",
       "    .dataframe thead th {\n",
       "        text-align: right;\n",
       "    }\n",
       "</style>\n",
       "<table border=\"1\" class=\"dataframe\">\n",
       "  <thead>\n",
       "    <tr style=\"text-align: right;\">\n",
       "      <th></th>\n",
       "      <th>ride_fare</th>\n",
       "      <th>short_ride</th>\n",
       "      <th>long_ride</th>\n",
       "    </tr>\n",
       "  </thead>\n",
       "  <tbody>\n",
       "    <tr>\n",
       "      <th>count</th>\n",
       "      <td>854.000000</td>\n",
       "      <td>854.000000</td>\n",
       "      <td>854.000000</td>\n",
       "    </tr>\n",
       "    <tr>\n",
       "      <th>mean</th>\n",
       "      <td>2200.286628</td>\n",
       "      <td>54.391101</td>\n",
       "      <td>54.375878</td>\n",
       "    </tr>\n",
       "    <tr>\n",
       "      <th>std</th>\n",
       "      <td>1791.426770</td>\n",
       "      <td>47.250416</td>\n",
       "      <td>45.806007</td>\n",
       "    </tr>\n",
       "    <tr>\n",
       "      <th>min</th>\n",
       "      <td>19.350000</td>\n",
       "      <td>1.000000</td>\n",
       "      <td>0.000000</td>\n",
       "    </tr>\n",
       "    <tr>\n",
       "      <th>25%</th>\n",
       "      <td>486.542500</td>\n",
       "      <td>11.000000</td>\n",
       "      <td>14.000000</td>\n",
       "    </tr>\n",
       "    <tr>\n",
       "      <th>50%</th>\n",
       "      <td>2158.600000</td>\n",
       "      <td>53.000000</td>\n",
       "      <td>49.000000</td>\n",
       "    </tr>\n",
       "    <tr>\n",
       "      <th>75%</th>\n",
       "      <td>3377.765000</td>\n",
       "      <td>84.000000</td>\n",
       "      <td>82.000000</td>\n",
       "    </tr>\n",
       "    <tr>\n",
       "      <th>max</th>\n",
       "      <td>9121.790000</td>\n",
       "      <td>252.000000</td>\n",
       "      <td>281.000000</td>\n",
       "    </tr>\n",
       "  </tbody>\n",
       "</table>\n",
       "</div>"
      ],
      "text/plain": [
       "         ride_fare  short_ride   long_ride\n",
       "count   854.000000  854.000000  854.000000\n",
       "mean   2200.286628   54.391101   54.375878\n",
       "std    1791.426770   47.250416   45.806007\n",
       "min      19.350000    1.000000    0.000000\n",
       "25%     486.542500   11.000000   14.000000\n",
       "50%    2158.600000   53.000000   49.000000\n",
       "75%    3377.765000   84.000000   82.000000\n",
       "max    9121.790000  252.000000  281.000000"
      ]
     },
     "execution_count": 39,
     "metadata": {},
     "output_type": "execute_result"
    }
   ],
   "source": [
    "df4.describe()"
   ]
  },
  {
   "cell_type": "code",
   "execution_count": 40,
   "metadata": {},
   "outputs": [
    {
     "data": {
      "text/html": [
       "<div>\n",
       "<style scoped>\n",
       "    .dataframe tbody tr th:only-of-type {\n",
       "        vertical-align: middle;\n",
       "    }\n",
       "\n",
       "    .dataframe tbody tr th {\n",
       "        vertical-align: top;\n",
       "    }\n",
       "\n",
       "    .dataframe thead th {\n",
       "        text-align: right;\n",
       "    }\n",
       "</style>\n",
       "<table border=\"1\" class=\"dataframe\">\n",
       "  <thead>\n",
       "    <tr style=\"text-align: right;\">\n",
       "      <th></th>\n",
       "      <th>driver_id</th>\n",
       "      <th>driver_onboard_date</th>\n",
       "      <th>ride_fare</th>\n",
       "      <th>short_ride</th>\n",
       "      <th>long_ride</th>\n",
       "    </tr>\n",
       "  </thead>\n",
       "  <tbody>\n",
       "    <tr>\n",
       "      <th>430</th>\n",
       "      <td>7b625f643d0775f0ac4898e33235377b</td>\n",
       "      <td>2016-04-04 00:00:00</td>\n",
       "      <td>19.35</td>\n",
       "      <td>1</td>\n",
       "      <td>0</td>\n",
       "    </tr>\n",
       "    <tr>\n",
       "      <th>447</th>\n",
       "      <td>7ff85c5c0e9324e28d1e0d0589c364bd</td>\n",
       "      <td>2016-04-19 00:00:00</td>\n",
       "      <td>29.62</td>\n",
       "      <td>1</td>\n",
       "      <td>1</td>\n",
       "    </tr>\n",
       "    <tr>\n",
       "      <th>841</th>\n",
       "      <td>fd831ca1d79ae5c6fc3a679a22e5b8cf</td>\n",
       "      <td>2016-05-07 00:00:00</td>\n",
       "      <td>138.55</td>\n",
       "      <td>3</td>\n",
       "      <td>1</td>\n",
       "    </tr>\n",
       "    <tr>\n",
       "      <th>713</th>\n",
       "      <td>d31eded9263eab43f614eecc6a52a0f5</td>\n",
       "      <td>2016-05-07 00:00:00</td>\n",
       "      <td>157.94</td>\n",
       "      <td>4</td>\n",
       "      <td>2</td>\n",
       "    </tr>\n",
       "    <tr>\n",
       "      <th>390</th>\n",
       "      <td>706466935b9e1d04e4e116be7ce90ea9</td>\n",
       "      <td>2016-04-01 00:00:00</td>\n",
       "      <td>175.36</td>\n",
       "      <td>3</td>\n",
       "      <td>3</td>\n",
       "    </tr>\n",
       "  </tbody>\n",
       "</table>\n",
       "</div>"
      ],
      "text/plain": [
       "                            driver_id  driver_onboard_date  ride_fare  \\\n",
       "430  7b625f643d0775f0ac4898e33235377b  2016-04-04 00:00:00      19.35   \n",
       "447  7ff85c5c0e9324e28d1e0d0589c364bd  2016-04-19 00:00:00      29.62   \n",
       "841  fd831ca1d79ae5c6fc3a679a22e5b8cf  2016-05-07 00:00:00     138.55   \n",
       "713  d31eded9263eab43f614eecc6a52a0f5  2016-05-07 00:00:00     157.94   \n",
       "390  706466935b9e1d04e4e116be7ce90ea9  2016-04-01 00:00:00     175.36   \n",
       "\n",
       "     short_ride  long_ride  \n",
       "430           1          0  \n",
       "447           1          1  \n",
       "841           3          1  \n",
       "713           4          2  \n",
       "390           3          3  "
      ]
     },
     "execution_count": 40,
     "metadata": {},
     "output_type": "execute_result"
    }
   ],
   "source": [
    "# Look at the drivers making least and most revenue \n",
    "df4.sort_values(\"ride_fare\").head()"
   ]
  },
  {
   "cell_type": "code",
   "execution_count": 41,
   "metadata": {},
   "outputs": [
    {
     "data": {
      "text/html": [
       "<div>\n",
       "<style scoped>\n",
       "    .dataframe tbody tr th:only-of-type {\n",
       "        vertical-align: middle;\n",
       "    }\n",
       "\n",
       "    .dataframe tbody tr th {\n",
       "        vertical-align: top;\n",
       "    }\n",
       "\n",
       "    .dataframe thead th {\n",
       "        text-align: right;\n",
       "    }\n",
       "</style>\n",
       "<table border=\"1\" class=\"dataframe\">\n",
       "  <thead>\n",
       "    <tr style=\"text-align: right;\">\n",
       "      <th></th>\n",
       "      <th>driver_id</th>\n",
       "      <th>driver_onboard_date</th>\n",
       "      <th>ride_fare</th>\n",
       "      <th>short_ride</th>\n",
       "      <th>long_ride</th>\n",
       "    </tr>\n",
       "  </thead>\n",
       "  <tbody>\n",
       "    <tr>\n",
       "      <th>274</th>\n",
       "      <td>4eb382d1f7d50fae1294964263d1ce82</td>\n",
       "      <td>2016-04-06 00:00:00</td>\n",
       "      <td>7818.70</td>\n",
       "      <td>245</td>\n",
       "      <td>168</td>\n",
       "    </tr>\n",
       "    <tr>\n",
       "      <th>664</th>\n",
       "      <td>c07499b5a6f1090f2fb263ec6ac0660c</td>\n",
       "      <td>2016-04-01 00:00:00</td>\n",
       "      <td>7862.53</td>\n",
       "      <td>136</td>\n",
       "      <td>223</td>\n",
       "    </tr>\n",
       "    <tr>\n",
       "      <th>461</th>\n",
       "      <td>844e9be5a30d8d9c1f8e9ddb086ff717</td>\n",
       "      <td>2016-04-15 00:00:00</td>\n",
       "      <td>7917.69</td>\n",
       "      <td>200</td>\n",
       "      <td>197</td>\n",
       "    </tr>\n",
       "    <tr>\n",
       "      <th>189</th>\n",
       "      <td>3788dc9e91f1548816ce8b5af07ddadc</td>\n",
       "      <td>2016-04-26 00:00:00</td>\n",
       "      <td>8834.42</td>\n",
       "      <td>219</td>\n",
       "      <td>215</td>\n",
       "    </tr>\n",
       "    <tr>\n",
       "      <th>316</th>\n",
       "      <td>5ccc0e6dc9c7475caf785cdce7b8eb7a</td>\n",
       "      <td>2016-04-05 00:00:00</td>\n",
       "      <td>9121.79</td>\n",
       "      <td>231</td>\n",
       "      <td>249</td>\n",
       "    </tr>\n",
       "  </tbody>\n",
       "</table>\n",
       "</div>"
      ],
      "text/plain": [
       "                            driver_id  driver_onboard_date  ride_fare  \\\n",
       "274  4eb382d1f7d50fae1294964263d1ce82  2016-04-06 00:00:00    7818.70   \n",
       "664  c07499b5a6f1090f2fb263ec6ac0660c  2016-04-01 00:00:00    7862.53   \n",
       "461  844e9be5a30d8d9c1f8e9ddb086ff717  2016-04-15 00:00:00    7917.69   \n",
       "189  3788dc9e91f1548816ce8b5af07ddadc  2016-04-26 00:00:00    8834.42   \n",
       "316  5ccc0e6dc9c7475caf785cdce7b8eb7a  2016-04-05 00:00:00    9121.79   \n",
       "\n",
       "     short_ride  long_ride  \n",
       "274         245        168  \n",
       "664         136        223  \n",
       "461         200        197  \n",
       "189         219        215  \n",
       "316         231        249  "
      ]
     },
     "execution_count": 41,
     "metadata": {},
     "output_type": "execute_result"
    }
   ],
   "source": [
    "df4.sort_values(\"ride_fare\").tail()"
   ]
  },
  {
   "cell_type": "code",
   "execution_count": null,
   "metadata": {},
   "outputs": [],
   "source": [
    "# Create a new collumn: \"last ride\" to calculate the number of months the drivers are active \n",
    "# Return the date/time of the last driver according to \"dropped_off_at\", timestamp and driver_id\n",
    "#last_ride = []\n",
    "#for index, row in df3.iterrows():\n",
    "#    distance = row[\"ride_distance\"]/(1609.344)\n",
    "#    duration = row[\"ride_duration\"]/(60)\n",
    "#    fare = round((2 + 1.15*distance + 0.22*duration),2) \n",
    "#    ride_fare.append(fare)"
   ]
  },
  {
   "cell_type": "code",
   "execution_count": 31,
   "metadata": {},
   "outputs": [
    {
     "data": {
      "text/html": [
       "<div>\n",
       "<style scoped>\n",
       "    .dataframe tbody tr th:only-of-type {\n",
       "        vertical-align: middle;\n",
       "    }\n",
       "\n",
       "    .dataframe tbody tr th {\n",
       "        vertical-align: top;\n",
       "    }\n",
       "\n",
       "    .dataframe thead th {\n",
       "        text-align: right;\n",
       "    }\n",
       "</style>\n",
       "<table border=\"1\" class=\"dataframe\">\n",
       "  <thead>\n",
       "    <tr style=\"text-align: right;\">\n",
       "      <th></th>\n",
       "      <th>driver_id</th>\n",
       "      <th>driver_onboard_date</th>\n",
       "    </tr>\n",
       "  </thead>\n",
       "  <tbody>\n",
       "    <tr>\n",
       "      <th>432</th>\n",
       "      <td>72ca99bb6667024a23e1f68904b06fd0</td>\n",
       "      <td>2016-03-28 00:00:00</td>\n",
       "    </tr>\n",
       "    <tr>\n",
       "      <th>907</th>\n",
       "      <td>f86eb77e1cefe28e9f0e9d3775fae261</td>\n",
       "      <td>2016-03-28 00:00:00</td>\n",
       "    </tr>\n",
       "    <tr>\n",
       "      <th>107</th>\n",
       "      <td>1e9b964b3e3d0289794289579269247a</td>\n",
       "      <td>2016-03-28 00:00:00</td>\n",
       "    </tr>\n",
       "    <tr>\n",
       "      <th>895</th>\n",
       "      <td>f1b4411717c78f67380366c2a16a4d1e</td>\n",
       "      <td>2016-03-28 00:00:00</td>\n",
       "    </tr>\n",
       "    <tr>\n",
       "      <th>889</th>\n",
       "      <td>f0df79d10df44f18742682108b17f60a</td>\n",
       "      <td>2016-03-28 00:00:00</td>\n",
       "    </tr>\n",
       "  </tbody>\n",
       "</table>\n",
       "</div>"
      ],
      "text/plain": [
       "                            driver_id  driver_onboard_date\n",
       "432  72ca99bb6667024a23e1f68904b06fd0  2016-03-28 00:00:00\n",
       "907  f86eb77e1cefe28e9f0e9d3775fae261  2016-03-28 00:00:00\n",
       "107  1e9b964b3e3d0289794289579269247a  2016-03-28 00:00:00\n",
       "895  f1b4411717c78f67380366c2a16a4d1e  2016-03-28 00:00:00\n",
       "889  f0df79d10df44f18742682108b17f60a  2016-03-28 00:00:00"
      ]
     },
     "execution_count": 31,
     "metadata": {},
     "output_type": "execute_result"
    }
   ],
   "source": [
    "# Sort according to onboarding date \n",
    "driver_ids.sort_values(\"driver_onboard_date\").head()"
   ]
  },
  {
   "cell_type": "code",
   "execution_count": 32,
   "metadata": {},
   "outputs": [
    {
     "data": {
      "text/html": [
       "<div>\n",
       "<style scoped>\n",
       "    .dataframe tbody tr th:only-of-type {\n",
       "        vertical-align: middle;\n",
       "    }\n",
       "\n",
       "    .dataframe tbody tr th {\n",
       "        vertical-align: top;\n",
       "    }\n",
       "\n",
       "    .dataframe thead th {\n",
       "        text-align: right;\n",
       "    }\n",
       "</style>\n",
       "<table border=\"1\" class=\"dataframe\">\n",
       "  <thead>\n",
       "    <tr style=\"text-align: right;\">\n",
       "      <th></th>\n",
       "      <th>driver_id</th>\n",
       "      <th>driver_onboard_date</th>\n",
       "    </tr>\n",
       "  </thead>\n",
       "  <tbody>\n",
       "    <tr>\n",
       "      <th>165</th>\n",
       "      <td>2e5d7b104b570a5cf450f6825880c9dc</td>\n",
       "      <td>2016-05-15 00:00:00</td>\n",
       "    </tr>\n",
       "    <tr>\n",
       "      <th>909</th>\n",
       "      <td>f98673773627b4b8d152e2b168b85bb2</td>\n",
       "      <td>2016-05-15 00:00:00</td>\n",
       "    </tr>\n",
       "    <tr>\n",
       "      <th>822</th>\n",
       "      <td>df9ab418e87b21319bdfe389a4552e08</td>\n",
       "      <td>2016-05-15 00:00:00</td>\n",
       "    </tr>\n",
       "    <tr>\n",
       "      <th>926</th>\n",
       "      <td>fdbee494c73577d5b1266d1fec5c6c9a</td>\n",
       "      <td>2016-05-15 00:00:00</td>\n",
       "    </tr>\n",
       "    <tr>\n",
       "      <th>142</th>\n",
       "      <td>28a396a3e1793b64046aaaf8345604ec</td>\n",
       "      <td>2016-05-15 00:00:00</td>\n",
       "    </tr>\n",
       "  </tbody>\n",
       "</table>\n",
       "</div>"
      ],
      "text/plain": [
       "                            driver_id  driver_onboard_date\n",
       "165  2e5d7b104b570a5cf450f6825880c9dc  2016-05-15 00:00:00\n",
       "909  f98673773627b4b8d152e2b168b85bb2  2016-05-15 00:00:00\n",
       "822  df9ab418e87b21319bdfe389a4552e08  2016-05-15 00:00:00\n",
       "926  fdbee494c73577d5b1266d1fec5c6c9a  2016-05-15 00:00:00\n",
       "142  28a396a3e1793b64046aaaf8345604ec  2016-05-15 00:00:00"
      ]
     },
     "execution_count": 32,
     "metadata": {},
     "output_type": "execute_result"
    }
   ],
   "source": [
    "driver_ids.sort_values(\"driver_onboard_date\").tail()"
   ]
  },
  {
   "cell_type": "code",
   "execution_count": null,
   "metadata": {},
   "outputs": [],
   "source": []
  }
 ],
 "metadata": {
  "kernelspec": {
   "display_name": "Python 3",
   "language": "python",
   "name": "python3"
  },
  "language_info": {
   "codemirror_mode": {
    "name": "ipython",
    "version": 3
   },
   "file_extension": ".py",
   "mimetype": "text/x-python",
   "name": "python",
   "nbconvert_exporter": "python",
   "pygments_lexer": "ipython3",
   "version": "3.6.5"
  }
 },
 "nbformat": 4,
 "nbformat_minor": 2
}
